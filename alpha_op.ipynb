{
 "cells": [
  {
   "cell_type": "code",
   "execution_count": 1,
   "metadata": {},
   "outputs": [
    {
     "name": "stderr",
     "output_type": "stream",
     "text": [
      "/home/mulns/anaconda3/lib/python3.6/site-packages/h5py/__init__.py:36: FutureWarning: Conversion of the second argument of issubdtype from `float` to `np.floating` is deprecated. In future, it will be treated as `np.float64 == np.dtype(float).type`.\n",
      "  from ._conv import register_converters as _register_converters\n",
      "Using TensorFlow backend.\n"
     ]
    }
   ],
   "source": [
    "import numpy as np\n",
    "from scipy import ndimage\n",
    "import image_utils as iu\n",
    "import alpha_utils as au\n",
    "import model\n",
    "import numpy as np\n",
    "from scipy import misc\n",
    "from scipy.signal import medfilt\n",
    "import matplotlib.pyplot as plt"
   ]
  },
  {
   "cell_type": "markdown",
   "metadata": {},
   "source": [
    "# Open/Close operation : Extract inner and outer edge"
   ]
  },
  {
   "cell_type": "code",
   "execution_count": 2,
   "metadata": {},
   "outputs": [
    {
     "name": "stderr",
     "output_type": "stream",
     "text": [
      "/home/mulns/anaconda3/lib/python3.6/site-packages/ipykernel_launcher.py:2: DeprecationWarning: `imread` is deprecated!\n",
      "`imread` is deprecated in SciPy 1.0.0, and will be removed in 1.2.0.\n",
      "Use ``imageio.imread`` instead.\n",
      "  \n"
     ]
    }
   ],
   "source": [
    "alpha_path = \"./Images/Alpha/puppy.jpg\"\n",
    "alpha = misc.imread(alpha_path, \"F\")/255."
   ]
  },
  {
   "cell_type": "markdown",
   "metadata": {},
   "source": [
    "### Evaluation"
   ]
  },
  {
   "cell_type": "code",
   "execution_count": 3,
   "metadata": {},
   "outputs": [
    {
     "data": {
      "text/plain": [
       "[<matplotlib.lines.Line2D at 0x7f350ed64128>,\n",
       " <matplotlib.lines.Line2D at 0x7f350ed64390>]"
      ]
     },
     "execution_count": 3,
     "metadata": {},
     "output_type": "execute_result"
    },
    {
     "data": {
      "image/png": "[encoded data removed]",
      "text/plain": [
       "<matplotlib.figure.Figure at 0x7f350fac8860>"
      ]
     },
     "metadata": {},
     "output_type": "display_data"
    }
   ],
   "source": [
    "inn_edges = {}\n",
    "for i in range(15):\n",
    "    structure_size = (i+1, i+1)\n",
    "    inn_edges[\"innedge_%d\"%(i)] = au.innedge(alpha, structure_size)\n",
    "out_edges = {}\n",
    "for i in range(15):\n",
    "    structure_size = (i+1, i+1)\n",
    "    out_edges[\"outedge_%d\"%(i)] = au.outedge(alpha, structure_size)\n",
    "        \n",
    "Losses_inn = au.loss_edge(alpha, **inn_edges)\n",
    "Losses_out = au.loss_edge(alpha, **out_edges)\n",
    "plt.plot(np.arange(len(Losses_inn)), Losses_inn, Losses_out)"
   ]
  },
  {
   "cell_type": "code",
   "execution_count": 4,
   "metadata": {},
   "outputs": [
    {
     "data": {
      "text/plain": [
       "[<matplotlib.lines.Line2D at 0x7f350ecf7e10>,\n",
       " <matplotlib.lines.Line2D at 0x7f350ecf7f60>]"
      ]
     },
     "execution_count": 4,
     "metadata": {},
     "output_type": "execute_result"
    },
    {
     "data": {
      "image/png": "[encoded data removed]",
      "text/plain": [
       "<matplotlib.figure.Figure at 0x7f350ed1a400>"
      ]
     },
     "metadata": {},
     "output_type": "display_data"
    }
   ],
   "source": [
    "inn_edges = {}\n",
    "for i in range(15):\n",
    "    structure_size = (i+1, i+1)\n",
    "    inn_edges[\"innedge_%d\"%(i)] = au.innedge(alpha, structure_size, mode=\"close\")\n",
    "out_edges = {}\n",
    "for i in range(15):\n",
    "    structure_size = (i+1, i+1)\n",
    "    out_edges[\"outedge_%d\"%(i)] = au.outedge(alpha, structure_size, mode=\"close\")\n",
    "        \n",
    "Losses_inn = au.loss_edge(alpha, **inn_edges)\n",
    "Losses_out = au.loss_edge(alpha, **out_edges)\n",
    "plt.plot(np.arange(len(Losses_inn)), Losses_inn, Losses_out)"
   ]
  },
  {
   "cell_type": "code",
   "execution_count": 5,
   "metadata": {},
   "outputs": [],
   "source": [
    "# TODO:show the intends of edges in diff mode and structure_size.\n",
    "\n"
   ]
  },
  {
   "cell_type": "code",
   "execution_count": 7,
   "metadata": {},
   "outputs": [],
   "source": [
    "# close_size = (9,9)\n",
    "# al_innedge = innedg(alpha, structure_size=close_size)\n",
    "# al_outedge = outedg(alpha, structure_size=close_size)\n",
    "# # Losses_inn.append(np.sum((al_innedge*alpha!=al_innedge*255)))\n",
    "# # Losses_out.append(np.sum((al_outedge|(alpha!=0)!=(alpha!=0))))\n",
    "# shows = [alpha, al_innedge, al_outedge]\n",
    "# for i in range(3):\n",
    "#     plt.subplot(1, 3, i+1)\n",
    "#     plt.imshow(shows[i][100:350,350:650], 'gray')\n",
    "# plt.show()\n",
    "# print(alpha.shape)\n",
    "# # print(al_outedge[:5,:5])\n",
    "# imsave(\"hr_innedge.png\", al_innedge*255)\n",
    "# imsave(\"hr_outedge.png\", al_outedge*255)"
   ]
  },
  {
   "cell_type": "code",
   "execution_count": null,
   "metadata": {},
   "outputs": [],
   "source": []
  },
  {
   "cell_type": "markdown",
   "metadata": {},
   "source": [
    "# Image multiplication based on inner and outer edge"
   ]
  },
  {
   "cell_type": "code",
   "execution_count": 8,
   "metadata": {},
   "outputs": [],
   "source": [
    "# # XXX How to generate trimap automatically?\n",
    "# # trimap = gen_trimap(hr_fg)\n",
    "# fg = lr_fg[:,:,0]\n",
    "# fg_bin = (fg>50)\n",
    "# fg_bin = ndimage.binary_closing(fg_bin, np.ones((20,20)))\n",
    "# fg_bin_dila = ndimage.binary_dilation(fg_bin, np.ones((20,20)))\n",
    "# fg_bin_eros = ndimage.binary_erosion(fg_bin, np.ones((30,30)))\n",
    "# trimap = np.where((fg_bin_dila != fg_bin_eros), 128., fg_bin*255.)\n",
    "\n",
    "# plt.imshow(trimap, 'gray')\n",
    "# plt.show()"
   ]
  },
  {
   "cell_type": "markdown",
   "metadata": {},
   "source": [
    "## LR image"
   ]
  },
  {
   "cell_type": "code",
   "execution_count": 3,
   "metadata": {},
   "outputs": [
    {
     "name": "stderr",
     "output_type": "stream",
     "text": [
      "/home/mulns/anaconda3/lib/python3.6/site-packages/ipykernel_launcher.py:3: DeprecationWarning: `imread` is deprecated!\n",
      "`imread` is deprecated in SciPy 1.0.0, and will be removed in 1.2.0.\n",
      "Use ``imageio.imread`` instead.\n",
      "  This is separate from the ipykernel package so we can avoid doing imports until\n",
      "/home/mulns/anaconda3/lib/python3.6/site-packages/ipykernel_launcher.py:4: DeprecationWarning: `imread` is deprecated!\n",
      "`imread` is deprecated in SciPy 1.0.0, and will be removed in 1.2.0.\n",
      "Use ``imageio.imread`` instead.\n",
      "  after removing the cwd from sys.path.\n",
      "/home/mulns/anaconda3/lib/python3.6/site-packages/ipykernel_launcher.py:4: DeprecationWarning: `imresize` is deprecated!\n",
      "`imresize` is deprecated in SciPy 1.0.0, and will be removed in 1.2.0.\n",
      "Use ``skimage.transform.resize`` instead.\n",
      "  after removing the cwd from sys.path.\n",
      "/home/mulns/anaconda3/lib/python3.6/site-packages/ipykernel_launcher.py:5: DeprecationWarning: `imread` is deprecated!\n",
      "`imread` is deprecated in SciPy 1.0.0, and will be removed in 1.2.0.\n",
      "Use ``imageio.imread`` instead.\n",
      "  \"\"\"\n",
      "/home/mulns/anaconda3/lib/python3.6/site-packages/ipykernel_launcher.py:10: DeprecationWarning: `imresize` is deprecated!\n",
      "`imresize` is deprecated in SciPy 1.0.0, and will be removed in 1.2.0.\n",
      "Use ``skimage.transform.resize`` instead.\n",
      "  # Remove the CWD from sys.path while we load stuff.\n",
      "/home/mulns/anaconda3/lib/python3.6/site-packages/ipykernel_launcher.py:11: DeprecationWarning: `imresize` is deprecated!\n",
      "`imresize` is deprecated in SciPy 1.0.0, and will be removed in 1.2.0.\n",
      "Use ``skimage.transform.resize`` instead.\n",
      "  # This is added back by InteractiveShellApp.init_path()\n",
      "/home/mulns/anaconda3/lib/python3.6/site-packages/ipykernel_launcher.py:12: DeprecationWarning: `imresize` is deprecated!\n",
      "`imresize` is deprecated in SciPy 1.0.0, and will be removed in 1.2.0.\n",
      "Use ``skimage.transform.resize`` instead.\n",
      "  if sys.path[0] == '':\n",
      "/home/mulns/anaconda3/lib/python3.6/site-packages/ipykernel_launcher.py:15: DeprecationWarning: `imresize` is deprecated!\n",
      "`imresize` is deprecated in SciPy 1.0.0, and will be removed in 1.2.0.\n",
      "Use ``skimage.transform.resize`` instead.\n",
      "  from ipykernel import kernelapp as app\n"
     ]
    }
   ],
   "source": [
    "scale = 2\n",
    "\n",
    "hr_fg, _ = iu.modcrop(misc.imread(\"./Images/fg/puppy.jpg\"), scale)\n",
    "hr_bg, _ = iu.modcrop(misc.imresize(misc.imread(\"./Images/bg/grass.jpg\"), hr_fg.shape), scale)\n",
    "hr_alpha, _ = iu.modcrop(misc.imread(\"./Images/Alpha/puppy.jpg\", \"F\"), scale)\n",
    "hr_alpha /= 255.\n",
    "if len(hr_alpha.shape)!= 2 : hr_alpha = hr_alpha[:,:,0]\n",
    "hr_mi = au.merge_mi(hr_fg, hr_bg, hr_alpha)\n",
    "\n",
    "lr_mi = misc.imresize(hr_mi, 1/scale, interp=\"bicubic\")\n",
    "lr_bg = misc.imresize(hr_bg, 1/scale, interp=\"bicubic\")\n",
    "lr_fg = misc.imresize(hr_fg, 1/scale, interp=\"bicubic\")\n",
    "\n",
    "# Generate LR alpha using interplotion\n",
    "lr_alpha = misc.imresize(hr_alpha, 1/scale, interp=\"bicubic\")/255."
   ]
  },
  {
   "cell_type": "code",
   "execution_count": null,
   "metadata": {},
   "outputs": [],
   "source": []
  },
  {
   "cell_type": "markdown",
   "metadata": {},
   "source": [
    "## Upscaling by interplotion directly"
   ]
  },
  {
   "cell_type": "code",
   "execution_count": 4,
   "metadata": {},
   "outputs": [
    {
     "name": "stdout",
     "output_type": "stream",
     "text": [
      "PSNR of bicubic interplotion is  41.305150296753645\n"
     ]
    },
    {
     "name": "stderr",
     "output_type": "stream",
     "text": [
      "/home/mulns/anaconda3/lib/python3.6/site-packages/ipykernel_launcher.py:1: DeprecationWarning: `imresize` is deprecated!\n",
      "`imresize` is deprecated in SciPy 1.0.0, and will be removed in 1.2.0.\n",
      "Use ``skimage.transform.resize`` instead.\n",
      "  \"\"\"Entry point for launching an IPython kernel.\n"
     ]
    },
    {
     "data": {
      "text/plain": [
       "<matplotlib.image.AxesImage at 0x7effea4dec88>"
      ]
     },
     "execution_count": 4,
     "metadata": {},
     "output_type": "execute_result"
    },
    {
     "data": {
      "image/png": "[encoded data removed]",
      "text/plain": [
       "<matplotlib.figure.Figure at 0x7effeb2acb00>"
      ]
     },
     "metadata": {},
     "output_type": "display_data"
    }
   ],
   "source": [
    "sr_alpha1 = misc.imresize(lr_alpha, hr_alpha.shape, interp=\"bicubic\")/255.\n",
    "print(\"PSNR of bicubic interplotion is \", au.psnr(sr_alpha1, hr_alpha))\n",
    "\n",
    "plt.imshow(np.abs(sr_alpha1 - hr_alpha), 'gray')\n",
    "# imsave(\"./Images/Alpha/sr_alpha1_psnr_41_305.jpg\", np.abs(sr_alpha1 - hr_alpha)*255)"
   ]
  },
  {
   "cell_type": "code",
   "execution_count": null,
   "metadata": {},
   "outputs": [],
   "source": []
  },
  {
   "cell_type": "code",
   "execution_count": null,
   "metadata": {},
   "outputs": [],
   "source": []
  },
  {
   "cell_type": "markdown",
   "metadata": {},
   "source": [
    "## Upscaling by edgs and interplotion"
   ]
  },
  {
   "cell_type": "markdown",
   "metadata": {},
   "source": [
    "### Parameters Comparation"
   ]
  },
  {
   "cell_type": "code",
   "execution_count": 102,
   "metadata": {},
   "outputs": [
    {
     "data": {
      "text/plain": [
       "('3_1', 41.30493925632578)"
      ]
     },
     "execution_count": 102,
     "metadata": {},
     "output_type": "execute_result"
    }
   ],
   "source": [
    "PSNR_EX = {}\n",
    "for i in range(1,11):\n",
    "    for j in range(1,11):\n",
    "        sr_alpha2 = au.alpha_uscale(lr_alpha, scale, innex=(i,i), outex=(j,j), innup=(4,4), outup=(14,14))\n",
    "        PSNR_EX[\"%d_%d\"%(i, j)] = au.psnr(sr_alpha2, hr_alpha)\n",
    "\n",
    "max(PSNR_EX.items(), key=lambda x: x[1]) "
   ]
  },
  {
   "cell_type": "code",
   "execution_count": 105,
   "metadata": {},
   "outputs": [
    {
     "data": {
      "text/plain": [
       "<Container object of 100 artists>"
      ]
     },
     "execution_count": 105,
     "metadata": {},
     "output_type": "execute_result"
    },
    {
     "data": {
      "image/png": "[encoded data removed]",
      "text/plain": [
       "<matplotlib.figure.Figure at 0x7f1651bf7978>"
      ]
     },
     "metadata": {},
     "output_type": "display_data"
    }
   ],
   "source": [
    "axes = plt.gca()  \n",
    "axes.set_ylim([41.2,41.32]) \n",
    "x = list(PSNR_EX.keys())\n",
    "y = list(PSNR_EX.values())\n",
    "plt.bar(x,y,align='center')"
   ]
  },
  {
   "cell_type": "code",
   "execution_count": 79,
   "metadata": {},
   "outputs": [
    {
     "data": {
      "text/plain": [
       "('4_14', 41.30487686380651)"
      ]
     },
     "execution_count": 79,
     "metadata": {},
     "output_type": "execute_result"
    }
   ],
   "source": [
    "PSNR_UP= {}\n",
    "for i in range(1,11):\n",
    "    for j in range(10,16):\n",
    "        sr_alpha2 = au.alpha_uscale(lr_alpha, scale,innex=(11,11), outex=(1,1), innup=(i,i), outup=(j,j))\n",
    "        PSNR_UP[\"%d_%d\"%(i, j)] = au.psnr(sr_alpha2, hr_alpha)\n",
    "\n",
    "max(PSNR_UP.items(), key=lambda x: x[1]) "
   ]
  },
  {
   "cell_type": "code",
   "execution_count": 98,
   "metadata": {},
   "outputs": [
    {
     "data": {
      "image/png": "[encoded data removed]",
      "text/plain": [
       "<matplotlib.figure.Figure at 0x7f1651a90b38>"
      ]
     },
     "metadata": {},
     "output_type": "display_data"
    }
   ],
   "source": [
    "axes = plt.gca()  \n",
    "axes.set_ylim([41.304,41.305]) \n",
    "x = list(PSNR_UP.keys())\n",
    "y = list(PSNR_UP.values())\n",
    "plt.bar(x,y, align='center')\n",
    "plt.show()"
   ]
  },
  {
   "cell_type": "markdown",
   "metadata": {},
   "source": [
    "### Show"
   ]
  },
  {
   "cell_type": "code",
   "execution_count": 9,
   "metadata": {},
   "outputs": [
    {
     "name": "stdout",
     "output_type": "stream",
     "text": [
      "PSNR of my solution is  41.30493925632578\n"
     ]
    },
    {
     "data": {
      "text/plain": [
       "<matplotlib.image.AxesImage at 0x7effea278278>"
      ]
     },
     "execution_count": 9,
     "metadata": {},
     "output_type": "execute_result"
    },
    {
     "data": {
      "image/png": "[encoded data removed]",
      "text/plain": [
       "<matplotlib.figure.Figure at 0x7effea327710>"
      ]
     },
     "metadata": {},
     "output_type": "display_data"
    }
   ],
   "source": [
    "sr_alpha2 = au.alpha_uscale(lr_alpha, scale,innex=(3,3), outex=(1,1), innup=(4,4), outup=(14,14))\n",
    "print(\"PSNR of my solution is \", au.psnr(sr_alpha2, hr_alpha))\n",
    "plt.imshow(np.uint8(np.abs(sr_alpha2 - hr_alpha)*255), 'gray')"
   ]
  },
  {
   "cell_type": "code",
   "execution_count": 10,
   "metadata": {},
   "outputs": [
    {
     "name": "stdout",
     "output_type": "stream",
     "text": [
      "PSNR of my solution is  40.50364119145712\n"
     ]
    },
    {
     "data": {
      "text/plain": [
       "<matplotlib.image.AxesImage at 0x7effea1efd30>"
      ]
     },
     "execution_count": 10,
     "metadata": {},
     "output_type": "execute_result"
    },
    {
     "data": {
      "image/png": "[encoded data removed]",
      "text/plain": [
       "<matplotlib.figure.Figure at 0x7effea327860>"
      ]
     },
     "metadata": {},
     "output_type": "display_data"
    }
   ],
   "source": [
    "sr_alpha3 = au.alpha_uscale(lr_alpha, scale,innex=(9,9), outex=(9,9), innup=(9,9), outup=(9,9))\n",
    "print(\"PSNR of my solution is \", au.psnr(sr_alpha3, hr_alpha))\n",
    "plt.imshow(np.uint8(np.abs(sr_alpha3 - hr_alpha)*255), 'gray')"
   ]
  },
  {
   "cell_type": "code",
   "execution_count": null,
   "metadata": {},
   "outputs": [],
   "source": []
  }
 ],
 "metadata": {
  "kernelspec": {
   "display_name": "Python 3",
   "language": "python",
   "name": "python3"
  },
  "language_info": {
   "codemirror_mode": {
    "name": "ipython",
    "version": 3
   },
   "file_extension": ".py",
   "mimetype": "text/x-python",
   "name": "python",
   "nbconvert_exporter": "python",
   "pygments_lexer": "ipython3",
   "version": "3.6.4"
  }
 },
 "nbformat": 4,
 "nbformat_minor": 2
}
