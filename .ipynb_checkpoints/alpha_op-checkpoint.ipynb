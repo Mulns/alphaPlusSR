{
 "cells": [
  {
   "cell_type": "code",
   "execution_count": 2,
   "metadata": {},
   "outputs": [
    {
     "name": "stderr",
     "output_type": "stream",
     "text": [
      "/home/mulns/anaconda3/lib/python3.6/site-packages/h5py/__init__.py:36: FutureWarning: Conversion of the second argument of issubdtype from `float` to `np.floating` is deprecated. In future, it will be treated as `np.float64 == np.dtype(float).type`.\n",
      "  from ._conv import register_converters as _register_converters\n",
      "Using TensorFlow backend.\n"
     ]
    }
   ],
   "source": [
    "import numpy as np\n",
    "from scipy import ndimage\n",
    "import image_utils as iu\n",
    "import alpha_utils as au\n",
    "import model\n",
    "import numpy as np\n",
    "from scipy import misc\n",
    "from scipy.signal import medfilt\n",
    "import matplotlib.pyplot as plt"
   ]
  },
  {
   "cell_type": "markdown",
   "metadata": {},
   "source": [
    "# Open/Close operation : Extract inner and outer edge"
   ]
  },
  {
   "cell_type": "markdown",
   "metadata": {},
   "source": [
    "### Evaluation"
   ]
  },
  {
   "cell_type": "code",
   "execution_count": 3,
   "metadata": {},
   "outputs": [
    {
     "name": "stderr",
     "output_type": "stream",
     "text": [
      "/home/mulns/anaconda3/lib/python3.6/site-packages/ipykernel_launcher.py:2: DeprecationWarning: `imread` is deprecated!\n",
      "`imread` is deprecated in SciPy 1.0.0, and will be removed in 1.2.0.\n",
      "Use ``imageio.imread`` instead.\n",
      "  \n"
     ]
    }
   ],
   "source": [
    "alpha_path = \"./Images/Alpha/puppy.jpg\"\n",
    "alpha = misc.imread(alpha_path, \"F\")/255."
   ]
  },
  {
   "cell_type": "code",
   "execution_count": 8,
   "metadata": {},
   "outputs": [],
   "source": [
    "# Try open operation and diff structure_size.\n",
    "Losses_inn = []\n",
    "Losses_out = []\n",
    "for i in range(15):\n",
    "    structure_size = (i+1,i+1)\n",
    "    al_innedge = au.innedge(alpha, structure_size=structure_size)\n",
    "    al_outedge = au.outedge(alpha, structure_size=structure_size)\n",
    "Losses_inn.append(au.loss_edge(alpha, al_innedge=al_innedge))\n",
    "Losses_out.append(au.loss_edge(alpha, al_outedge=al_outedge))"
   ]
  },
  {
   "cell_type": "code",
   "execution_count": null,
   "metadata": {},
   "outputs": [],
   "source": [
    "inn_edges = {}\n",
    "for i in range(15):\n",
    "    structure_size = (i+1, i+1)\n",
    "    inn_edges[\"innedge_%d\"%(i)] = au.innedge(alpha, structure_size)\n",
    "out_edges = {}\n",
    "for i in range(15):\n",
    "    structure_size = (i+1, i+1)\n",
    "    out_edges[\"outedge_%d\"%(i)] = au.outedge(alpha, structure_size)\n",
    "        "
   ]
  },
  {
   "cell_type": "code",
   "execution_count": 10,
   "metadata": {},
   "outputs": [
    {
     "data": {
      "image/png": "[encoded data removed]",
      "text/plain": [
       "<matplotlib.figure.Figure at 0x7fdd6b595ac8>"
      ]
     },
     "metadata": {},
     "output_type": "display_data"
    }
   ],
   "source": [
    "plt.plot(np.arange(15), Losses_inn)\n",
    "plt.show()"
   ]
  },
  {
   "cell_type": "code",
   "execution_count": 5,
   "metadata": {},
   "outputs": [
    {
     "data": {
      "text/plain": [
       "[<matplotlib.lines.Line2D at 0x7f5eeb417390>,\n",
       " <matplotlib.lines.Line2D at 0x7f5eeb4175f8>]"
      ]
     },
     "execution_count": 5,
     "metadata": {},
     "output_type": "execute_result"
    },
    {
     "data": {
      "image/png": "[encoded data removed]",
      "text/plain": [
       "<matplotlib.figure.Figure at 0x7f5eec29df28>"
      ]
     },
     "metadata": {},
     "output_type": "display_data"
    }
   ],
   "source": [
    "plt.plot(np.arange(15), Losses_inn,Losses_out)"
   ]
  },
  {
   "cell_type": "code",
   "execution_count": 6,
   "metadata": {},
   "outputs": [
    {
     "data": {
      "image/png": "[encoded data removed]",
      "text/plain": [
       "<matplotlib.figure.Figure at 0x7f5eeafd0dd8>"
      ]
     },
     "metadata": {},
     "output_type": "display_data"
    },
    {
     "name": "stdout",
     "output_type": "stream",
     "text": [
      "(1920, 1280)\n"
     ]
    },
    {
     "name": "stderr",
     "output_type": "stream",
     "text": [
      "/home/mulns/anaconda3/lib/python3.6/site-packages/ipykernel_launcher.py:13: DeprecationWarning: `imsave` is deprecated!\n",
      "`imsave` is deprecated in SciPy 1.0.0, and will be removed in 1.2.0.\n",
      "Use ``imageio.imwrite`` instead.\n",
      "  del sys.path[0]\n",
      "/home/mulns/anaconda3/lib/python3.6/site-packages/ipykernel_launcher.py:14: DeprecationWarning: `imsave` is deprecated!\n",
      "`imsave` is deprecated in SciPy 1.0.0, and will be removed in 1.2.0.\n",
      "Use ``imageio.imwrite`` instead.\n",
      "  \n"
     ]
    }
   ],
   "source": [
    "close_size = (9,9)\n",
    "al_innedge = innedg(alpha, structure_size=close_size)\n",
    "al_outedge = outedg(alpha, structure_size=close_size)\n",
    "# Losses_inn.append(np.sum((al_innedge*alpha!=al_innedge*255)))\n",
    "# Losses_out.append(np.sum((al_outedge|(alpha!=0)!=(alpha!=0))))\n",
    "shows = [alpha, al_innedge, al_outedge]\n",
    "for i in range(3):\n",
    "    plt.subplot(1, 3, i+1)\n",
    "    plt.imshow(shows[i][100:350,350:650], 'gray')\n",
    "plt.show()\n",
    "print(alpha.shape)\n",
    "# print(al_outedge[:5,:5])\n",
    "imsave(\"hr_innedge.png\", al_innedge*255)\n",
    "imsave(\"hr_outedge.png\", al_outedge*255)"
   ]
  },
  {
   "cell_type": "code",
   "execution_count": null,
   "metadata": {},
   "outputs": [],
   "source": []
  },
  {
   "cell_type": "markdown",
   "metadata": {},
   "source": [
    "# Image multiplication based on inner and outer edge"
   ]
  },
  {
   "cell_type": "code",
   "execution_count": 8,
   "metadata": {},
   "outputs": [],
   "source": [
    "def psnr(y_true, y_pred):\n",
    "    assert y_true.shape == y_pred.shape, \"Cannot calculate PSNR. Input shapes not same.\" \\\n",
    "                                         \" y_true shape = %s, y_pred shape = %s\" % (str(y_true.shape),\n",
    "                                                                                   str(y_pred.shape))\n",
    "\n",
    "    return -10. * np.log10(np.mean(np.square(y_pred - y_true)))"
   ]
  },
  {
   "cell_type": "markdown",
   "metadata": {},
   "source": [
    "### Preparation : Generate LR image, edge image and alpha using LR bg and fg"
   ]
  },
  {
   "cell_type": "code",
   "execution_count": 9,
   "metadata": {},
   "outputs": [],
   "source": [
    "# FIXME "
   ]
  },
  {
   "cell_type": "code",
   "execution_count": 34,
   "metadata": {},
   "outputs": [],
   "source": [
    "def gen_alpha(image, fg, bg):\n",
    "    # image and fg-image share the same shape (and num of channels)\n",
    "    if image.shape != fg.shape:\n",
    "        raise ValueError(\"image's shape should be same to fore-ground image's!\")\n",
    "    bg = imresize(bg, fg.shape)\n",
    "    alpha = (image - bg)/(fg - bg)\n",
    "    if len(alpha.shape) != 2 : alpha = np.sum(alpha, axis=2)/3\n",
    "    return alpha\n",
    "\n",
    "def gen_image(fg, bg, alpha):\n",
    "    # alpha grayscale, in(0,1)\n",
    "    if len(fg.shape) != 2 : alpha = alpha.reshape(alpha.shape[0], alpha.shape[1], 1)\n",
    "    if fg.shape[:2] != alpha.shape[:2]:\n",
    "        raise ValueError(\"back-ground image's shape should be same to fore-ground image's!\")\n",
    "    bg = imresize(bg, fg.shape)\n",
    "    image = fg*alpha + bg*(1-alpha)\n",
    "    return image\n",
    "\n",
    "def gen_trimap(fg):\n",
    "    fg_bin = fg.astype(np.bool_)\n",
    "    fg_bin_dila = ndimage.binary_dilation(fg_bin, np.ones((12,12)))\n",
    "    fg_bin_eros = ndimage.binary_erosion(fg_bin, np.ones((12,12)))\n",
    "    trimap = np.where((fg_bin_dila != fg_bin_eros), 128., fg_bin*255.)\n",
    "    return trimap\n",
    "\n",
    "def modcrop(image, scale):\n",
    "    image = np.squeeze(image)\n",
    "    size = image.shape[:2]\n",
    "    size -= np.mod(size, scale)\n",
    "    if len(image.shape) == 2:\n",
    "        image = image[:size[0], :size[1]]\n",
    "    else:\n",
    "        image = image[:size[0], :size[1], :]\n",
    "    return image\n"
   ]
  },
  {
   "cell_type": "code",
   "execution_count": 98,
   "metadata": {},
   "outputs": [
    {
     "data": {
      "image/png": "[encoded data removed]",
      "text/plain": [
       "<matplotlib.figure.Figure at 0x7f5edbf63fd0>"
      ]
     },
     "metadata": {},
     "output_type": "display_data"
    }
   ],
   "source": [
    "# trimap = gen_trimap(hr_fg)\n",
    "fg = lr_fg[:,:,0]\n",
    "fg_bin = (fg>50)\n",
    "fg_bin = ndimage.binary_closing(fg_bin, np.ones((20,20)))\n",
    "fg_bin_dila = ndimage.binary_dilation(fg_bin, np.ones((20,20)))\n",
    "fg_bin_eros = ndimage.binary_erosion(fg_bin, np.ones((30,30)))\n",
    "trimap = np.where((fg_bin_dila != fg_bin_eros), 128., fg_bin*255.)\n",
    "\n",
    "plt.imshow(trimap, 'gray')\n",
    "plt.show()"
   ]
  },
  {
   "cell_type": "code",
   "execution_count": 99,
   "metadata": {},
   "outputs": [
    {
     "name": "stderr",
     "output_type": "stream",
     "text": [
      "/home/mulns/anaconda3/lib/python3.6/site-packages/ipykernel_launcher.py:1: DeprecationWarning: `imsave` is deprecated!\n",
      "`imsave` is deprecated in SciPy 1.0.0, and will be removed in 1.2.0.\n",
      "Use ``imageio.imwrite`` instead.\n",
      "  \"\"\"Entry point for launching an IPython kernel.\n"
     ]
    }
   ],
   "source": [
    "imsave(\"./Images/trimap/lr_puppy.jpg\", trimap)"
   ]
  },
  {
   "cell_type": "code",
   "execution_count": null,
   "metadata": {},
   "outputs": [],
   "source": [
    "scale = 2\n",
    "# hr_image = imread(\"./Images/images/test.jpg\")\n",
    "hr_fg = modcrop(imread(\"./Images/fg/puppy.jpg\"), scale).astype(np.float32)\n",
    "hr_bg = modcrop(imresize(imread(\"./Images/bg/grass.jpg\"), hr_fg.shape), scale).astype(np.float32)\n",
    "hr_alpha = modcrop(imread(\"./Images/Alpha/puppy.jpg\", \"F\"), scale)/255.\n",
    "if len(hr_alpha.shape)!= 2 : hr_alpha = hr_alpha[:,:,0]\n",
    "hr_image = gen_image(hr_fg, hr_bg, hr_alpha)\n",
    "lr_image = imresize(hr_image, 1/scale, interp=\"bicubic\")\n",
    "lr_bg = imresize(hr_bg, 1/scale, interp=\"bicubic\")\n",
    "lr_fg = imresize(hr_fg, 1/scale, interp=\"bicubic\")\n",
    "# lr_alpha = gen_alpha(lr_image, lr_fg, lr_bg)\n",
    "# lr_alpha = medfilt(np.uint8(lr_alpha*255), 7)/255."
   ]
  },
  {
   "cell_type": "code",
   "execution_count": 81,
   "metadata": {},
   "outputs": [
    {
     "name": "stderr",
     "output_type": "stream",
     "text": [
      "/home/mulns/anaconda3/lib/python3.6/site-packages/ipykernel_launcher.py:1: DeprecationWarning: `imsave` is deprecated!\n",
      "`imsave` is deprecated in SciPy 1.0.0, and will be removed in 1.2.0.\n",
      "Use ``imageio.imwrite`` instead.\n",
      "  \"\"\"Entry point for launching an IPython kernel.\n"
     ]
    }
   ],
   "source": [
    "imsave(\"./Images/images/lr_puppy.jpg\", lr_image)"
   ]
  },
  {
   "cell_type": "code",
   "execution_count": 12,
   "metadata": {},
   "outputs": [
    {
     "data": {
      "image/png": "[encoded data removed]",
      "text/plain": [
       "<matplotlib.figure.Figure at 0x7f5eeac0fb38>"
      ]
     },
     "metadata": {},
     "output_type": "display_data"
    }
   ],
   "source": [
    "plt.subplot(131)\n",
    "plt.imshow(lr_image, 'gray')\n",
    "plt.subplot(132)\n",
    "plt.imshow(hr_alpha)\n",
    "plt.subplot(133)\n",
    "plt.imshow(lr_alpha)\n",
    "plt.show()"
   ]
  },
  {
   "cell_type": "markdown",
   "metadata": {},
   "source": [
    "### Generate LR alpha using interplotion"
   ]
  },
  {
   "cell_type": "code",
   "execution_count": 13,
   "metadata": {},
   "outputs": [
    {
     "name": "stderr",
     "output_type": "stream",
     "text": [
      "/home/mulns/anaconda3/lib/python3.6/site-packages/ipykernel_launcher.py:2: DeprecationWarning: `imresize` is deprecated!\n",
      "`imresize` is deprecated in SciPy 1.0.0, and will be removed in 1.2.0.\n",
      "Use ``skimage.transform.resize`` instead.\n",
      "  \n"
     ]
    }
   ],
   "source": [
    "scale = 2\n",
    "lr_alpha = imresize(hr_alpha, 1/scale, interp=\"bicubic\")/255."
   ]
  },
  {
   "cell_type": "code",
   "execution_count": null,
   "metadata": {},
   "outputs": [],
   "source": []
  },
  {
   "cell_type": "markdown",
   "metadata": {},
   "source": [
    "## Upscaling by interplotion directly"
   ]
  },
  {
   "cell_type": "code",
   "execution_count": 14,
   "metadata": {},
   "outputs": [
    {
     "name": "stderr",
     "output_type": "stream",
     "text": [
      "/home/mulns/anaconda3/lib/python3.6/site-packages/ipykernel_launcher.py:1: DeprecationWarning: `imresize` is deprecated!\n",
      "`imresize` is deprecated in SciPy 1.0.0, and will be removed in 1.2.0.\n",
      "Use ``skimage.transform.resize`` instead.\n",
      "  \"\"\"Entry point for launching an IPython kernel.\n"
     ]
    }
   ],
   "source": [
    "sr_alpha1 = imresize(lr_alpha, hr_alpha.shape, interp=\"bicubic\")/255."
   ]
  },
  {
   "cell_type": "code",
   "execution_count": 15,
   "metadata": {},
   "outputs": [
    {
     "data": {
      "text/plain": [
       "41.305150296753645"
      ]
     },
     "execution_count": 15,
     "metadata": {},
     "output_type": "execute_result"
    }
   ],
   "source": [
    "psnr(sr_alpha1, hr_alpha)"
   ]
  },
  {
   "cell_type": "code",
   "execution_count": 16,
   "metadata": {},
   "outputs": [
    {
     "name": "stderr",
     "output_type": "stream",
     "text": [
      "/home/mulns/anaconda3/lib/python3.6/site-packages/ipykernel_launcher.py:2: DeprecationWarning: `imsave` is deprecated!\n",
      "`imsave` is deprecated in SciPy 1.0.0, and will be removed in 1.2.0.\n",
      "Use ``imageio.imwrite`` instead.\n",
      "  \n"
     ]
    },
    {
     "data": {
      "image/png": "[encoded data removed]",
      "text/plain": [
       "<matplotlib.figure.Figure at 0x7f5eea6565c0>"
      ]
     },
     "metadata": {},
     "output_type": "display_data"
    }
   ],
   "source": [
    "plt.imshow(np.abs(sr_alpha1 - hr_alpha), 'gray')\n",
    "imsave(\"./Images/Alpha/sr_alpha1_psnr_41_305.jpg\", np.abs(sr_alpha1 - hr_alpha)*255)"
   ]
  },
  {
   "cell_type": "markdown",
   "metadata": {},
   "source": [
    "## Upscaling by edgs and interplotion"
   ]
  },
  {
   "cell_type": "code",
   "execution_count": 24,
   "metadata": {},
   "outputs": [],
   "source": [
    "def _multisize(image, scale=2):\n",
    "    h, w = image.shape\n",
    "    new_image = np.zeros((h*scale, w*scale))*255\n",
    "    for i in range(h):\n",
    "        for j in range(w):\n",
    "            new_image[i*scale][j*scale] = image[i][j]\n",
    "    return new_image\n",
    "\n",
    "def multisize(image, scale=2, structure_size=(1, 1)):\n",
    "    new_image = _multisize(image, scale)\n",
    "    ni = ndimage.binary_closing(new_image, structure=np.ones(structure_size)) # ndimage.binary_fill_holes()?\n",
    "    return ni*1.\n",
    "\n",
    "def merge(image, innedge, outedge):\n",
    "    innedge = (innedge==1)\n",
    "    image1 = np.where(innedge, 1, image)\n",
    "    outedge = (outedge!=1)\n",
    "    image2 = np.where(outedge, 0, image1)\n",
    "    return image2"
   ]
  },
  {
   "cell_type": "code",
   "execution_count": 25,
   "metadata": {},
   "outputs": [],
   "source": [
    "size = (9,9)\n",
    "lr_innedge = innedg(lr_alpha, size)\n",
    "lr_outedge = outedg(lr_alpha, size)"
   ]
  },
  {
   "cell_type": "code",
   "execution_count": 26,
   "metadata": {},
   "outputs": [],
   "source": [
    "sr_innedge = multisize(lr_innedge*255., scale=2, structure_size=size)\n",
    "hr_innedge = innedg(hr_alpha, size)"
   ]
  },
  {
   "cell_type": "code",
   "execution_count": 27,
   "metadata": {},
   "outputs": [],
   "source": [
    "sr_outedge = multisize(lr_outedge*255., scale=2, structure_size=size)\n",
    "hr_outedge = outedg(hr_alpha, size)"
   ]
  },
  {
   "cell_type": "code",
   "execution_count": 28,
   "metadata": {},
   "outputs": [],
   "source": [
    "sr_alpha2 = merge(sr_alpha1, sr_innedge, sr_outedge)"
   ]
  },
  {
   "cell_type": "code",
   "execution_count": 29,
   "metadata": {},
   "outputs": [
    {
     "name": "stderr",
     "output_type": "stream",
     "text": [
      "/home/mulns/anaconda3/lib/python3.6/site-packages/ipykernel_launcher.py:2: DeprecationWarning: `imsave` is deprecated!\n",
      "`imsave` is deprecated in SciPy 1.0.0, and will be removed in 1.2.0.\n",
      "Use ``imageio.imwrite`` instead.\n",
      "  \n"
     ]
    },
    {
     "data": {
      "image/png": "[encoded data removed]",
      "text/plain": [
       "<matplotlib.figure.Figure at 0x7f5ee204c470>"
      ]
     },
     "metadata": {},
     "output_type": "display_data"
    }
   ],
   "source": [
    "plt.imshow(np.abs(sr_alpha2 - hr_alpha), 'gray')\n",
    "imsave(\"./Images/Alpha/sr_alpha2_psnr_40_503.jpg\", np.abs(sr_alpha2 - hr_alpha)*255)"
   ]
  },
  {
   "cell_type": "code",
   "execution_count": 30,
   "metadata": {},
   "outputs": [
    {
     "data": {
      "text/plain": [
       "40.50364119145712"
      ]
     },
     "execution_count": 30,
     "metadata": {},
     "output_type": "execute_result"
    }
   ],
   "source": [
    "psnr(sr_alpha2, hr_alpha)"
   ]
  },
  {
   "cell_type": "code",
   "execution_count": null,
   "metadata": {},
   "outputs": [],
   "source": []
  },
  {
   "cell_type": "code",
   "execution_count": 31,
   "metadata": {},
   "outputs": [
    {
     "data": {
      "image/png": "[encoded data removed]",
      "text/plain": [
       "<matplotlib.figure.Figure at 0x7f5ee23c8b00>"
      ]
     },
     "metadata": {},
     "output_type": "display_data"
    },
    {
     "name": "stdout",
     "output_type": "stream",
     "text": [
      "psnr of outedge is  20.046190636390143\n",
      "num of diff pixel is  24316\n",
      "Sr innedge has 6056 pixel mislead\n",
      "Psnr of these pixel is  26.083253318594014\n"
     ]
    }
   ],
   "source": [
    "plt.subplot(131)\n",
    "plt.imshow(sr_outedge, 'gray')\n",
    "plt.subplot(132)\n",
    "plt.imshow(hr_outedge, 'gray')\n",
    "plt.subplot(133)\n",
    "plt.imshow(np.abs(sr_outedge*255. - hr_outedge*255.), 'gray')\n",
    "plt.show()\n",
    "print(\"psnr of outedge is \", psnr(sr_outedge*1., hr_outedge*1.))\n",
    "print(\"num of diff pixel is \", np.sum((sr_outedge != hr_outedge)))\n",
    "\n",
    "print(\"Sr innedge has %d pixel mislead\"% np.sum(((sr_outedge==1)|(hr_alpha!=0)!=(hr_alpha!=0))))\n",
    "print(\"Psnr of these pixel is \", psnr(((sr_outedge==1)|(hr_alpha!=0))*1, (hr_alpha!=0)*1))"
   ]
  },
  {
   "cell_type": "code",
   "execution_count": null,
   "metadata": {},
   "outputs": [],
   "source": []
  },
  {
   "cell_type": "code",
   "execution_count": null,
   "metadata": {},
   "outputs": [],
   "source": []
  },
  {
   "cell_type": "code",
   "execution_count": 32,
   "metadata": {},
   "outputs": [
    {
     "data": {
      "image/png": "[encoded data removed]",
      "text/plain": [
       "<matplotlib.figure.Figure at 0x7f5eea8466a0>"
      ]
     },
     "metadata": {},
     "output_type": "display_data"
    },
    {
     "name": "stdout",
     "output_type": "stream",
     "text": [
      "psnr of innedge is  26.276826451623272\n",
      "num of diff pixel is  5792\n",
      "Sr innedge has 520 pixel mislead\n",
      "Psnr of these pixel is  83.69170907309734\n"
     ]
    }
   ],
   "source": [
    "plt.subplot(131)\n",
    "plt.imshow(sr_innedge, 'gray')\n",
    "plt.subplot(132)\n",
    "plt.imshow(hr_innedge, 'gray')\n",
    "plt.subplot(133)\n",
    "plt.imshow(np.abs(sr_innedge*255. - hr_innedge*255.), 'gray')\n",
    "plt.show()\n",
    "print(\"psnr of innedge is \", psnr(sr_innedge*1., hr_innedge*1.))\n",
    "print(\"num of diff pixel is \", np.sum((sr_innedge != hr_innedge)))\n",
    "\n",
    "print(\"Sr innedge has %d pixel mislead\"% np.sum((sr_innedge*hr_alpha!=sr_innedge*1)))\n",
    "print(\"Psnr of these pixel is \", psnr(sr_innedge*hr_alpha, sr_innedge*1))"
   ]
  },
  {
   "cell_type": "code",
   "execution_count": null,
   "metadata": {},
   "outputs": [],
   "source": []
  },
  {
   "cell_type": "code",
   "execution_count": null,
   "metadata": {},
   "outputs": [],
   "source": []
  },
  {
   "cell_type": "code",
   "execution_count": 102,
   "metadata": {},
   "outputs": [],
   "source": [
    "class Mulns(object):\n",
    "    def __init__(self, **names):\n",
    "        self.name = names[\"me\"] if \"me\" in names else None\n",
    "    def getname(self, **names):\n",
    "        f = lambda names: setattr(self,\"name\",names[\"me\"]) if getattr(self, \"name\") is None else getattr(self, \"name\")\n",
    "        f(names)"
   ]
  },
  {
   "cell_type": "code",
   "execution_count": 109,
   "metadata": {},
   "outputs": [],
   "source": [
    "f = lambda names: setattr(mulns, \"name\", names[\"me\"]) if getattr(mulns, \"name\") is None else getattr(mulns, \"name\")"
   ]
  },
  {
   "cell_type": "code",
   "execution_count": 117,
   "metadata": {},
   "outputs": [
    {
     "name": "stdout",
     "output_type": "stream",
     "text": [
      "None\n",
      "None\n"
     ]
    }
   ],
   "source": [
    "mulns = Mulns()\n",
    "print(mulns.name)\n",
    "mulns.getname(me=\"mulns\")\n",
    "print(mulns.name)\n"
   ]
  },
  {
   "cell_type": "markdown",
   "metadata": {},
   "source": []
  }
 ],
 "metadata": {
  "kernelspec": {
   "display_name": "Python 3",
   "language": "python",
   "name": "python3"
  },
  "language_info": {
   "codemirror_mode": {
    "name": "ipython",
    "version": 3
   },
   "file_extension": ".py",
   "mimetype": "text/x-python",
   "name": "python",
   "nbconvert_exporter": "python",
   "pygments_lexer": "ipython3",
   "version": "3.6.4"
  }
 },
 "nbformat": 4,
 "nbformat_minor": 2
}
